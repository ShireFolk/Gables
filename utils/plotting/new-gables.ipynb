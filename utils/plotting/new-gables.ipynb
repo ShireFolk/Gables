{
 "cells": [
  {
   "cell_type": "code",
   "execution_count": 141,
   "metadata": {},
   "outputs": [],
   "source": [
    "import os\n",
    "import math\n",
    "import matplotlib.pyplot as plt\n",
    "import matplotlib as mpl\n",
    "import numpy as np"
   ]
  },
  {
   "cell_type": "code",
   "execution_count": 2,
   "metadata": {},
   "outputs": [],
   "source": [
    "INPUT_DIRECTORY = \"/Users/dinge/lenovo-1-thread-data\""
   ]
  },
  {
   "cell_type": "code",
   "execution_count": 3,
   "metadata": {},
   "outputs": [],
   "source": [
    "os.chdir(INPUT_DIRECTORY)"
   ]
  },
  {
   "cell_type": "code",
   "execution_count": 10,
   "metadata": {},
   "outputs": [],
   "source": [
    "def plot_bandwidth(summary):\n",
    "    plt.plot(summary.x, summary.band)\n",
    "    plt.xscale(\"log\")\n",
    "    plt.yscale(\"log\")\n",
    "    plt.ylabel(\"Total Bandwidth (GB/s)\")\n",
    "    plt.xlabel(\"Working set size (bytes)\")\n",
    "    plt.show() \n",
    "    \n",
    "def plot_gflops(summary):\n",
    "    plt.plot(summaries[0].x, summaries[0].gflops)\n",
    "    plt.xscale(\"log\")\n",
    "    plt.yscale(\"log\")\n",
    "    plt.ylabel(\"GFLOPs/sec\")\n",
    "    plt.xlabel(\"Working set size (bytes)\")\n",
    "    plt.show() "
   ]
  },
  {
   "cell_type": "code",
   "execution_count": 110,
   "metadata": {},
   "outputs": [],
   "source": [
    "def smooth(y):\n",
    "    ys = y[:]\n",
    "\n",
    "    d = 0\n",
    "\n",
    "    for i in range(len(ys)):\n",
    "        num = min(len(ys),i+d+1) - max(0,i-d)\n",
    "        total = sum(ys[max(0,i-d):min(len(ys),i+d+1)])\n",
    "        ys[i] = total/float(num)\n",
    "\n",
    "    return ys\n",
    "\n",
    "def calculate_bandwidths(summary):\n",
    "    max_band = max(summary.band)\n",
    "    num_buckets = 10000\n",
    "    threshold = 1.05\n",
    "    buckets = [0] * num_buckets\n",
    "    bucket_values = [0] * num_buckets\n",
    "    band = summary.band[summary.band.index(max_band):]\n",
    "    band = smooth(band)\n",
    "    for i in range(0, num_buckets):\n",
    "        value = (max_band / num_buckets) * i\n",
    "        bucket_min = value/threshold\n",
    "        bucket_max = value * threshold\n",
    "        for b in band:\n",
    "            if b > bucket_min and b < bucket_max:\n",
    "                buckets[i] += 1\n",
    "                bucket_values[i] = b\n",
    "                \n",
    "    band_list = [[max_band*1000,1000]]\n",
    "    maxc = -1\n",
    "    maxi = -1\n",
    "    for i in range(num_buckets-3,1,-1):\n",
    "        if buckets[i] > 6:\n",
    "            if buckets[i] > maxc:\n",
    "                maxc = buckets[i]\n",
    "                maxi = i\n",
    "        else:\n",
    "            threshold = 1.25\n",
    "            if maxc > 1:\n",
    "                value = float(bucket_values[maxi])/max(1,buckets[maxi])\n",
    "                if threshold*value < float(band_list[-1][0])/band_list[-1][1]:\n",
    "                    band_list.append([bucket_values[maxi],buckets[maxi]])\n",
    "                else:\n",
    "                    band_list[-1][0] += bucket_values[maxi]\n",
    "                    band_list[-1][1] += buckets[maxi]\n",
    "            maxc = -1\n",
    "            maxi = -1\n",
    "            \n",
    "    print(band_list)\n",
    "    summary.max_dram = band_list[-1][0]\n",
    "    try:\n",
    "        summary.max_l1 = band_list[-2][0]\n",
    "        summary.max_l2 = band_list[-3][0]\n",
    "    except:\n",
    "        pass\n",
    "\n",
    "def calculate_weight(summary):\n",
    "    weight = 0\n",
    "    for i in range(0,len(summary.x)-1):\n",
    "        x1 = math.log(summary.x[i])\n",
    "        y1 = summary.band[i]\n",
    "\n",
    "        x2 = math.log(summary.x[i+1])\n",
    "        y2 = summary.band[i+1]\n",
    "\n",
    "        weight += (y1+y2)/2.0 * (x2-x1)\n",
    "    summary.weight = weight"
   ]
  },
  {
   "cell_type": "code",
   "execution_count": 182,
   "metadata": {},
   "outputs": [],
   "source": [
    "# Remove \n",
    "\n",
    "class RAW_INDEX:\n",
    "    working_set_size = 0\n",
    "    num_trials = 1\n",
    "    time = 2\n",
    "    bytes = 3\n",
    "    flops=4\n",
    "\n",
    "class TestSummary(object):\n",
    "    def __init__(self):\n",
    "        self.max_gflops = -math.inf\n",
    "        self.weight = None\n",
    "        self.max_l1 = None\n",
    "        self.max_l2 = None\n",
    "        self.max_dram = None\n",
    "        self.flops = None\n",
    "        self.threads = None\n",
    "        self.x = []\n",
    "        self.band = []\n",
    "        self.gflops = []\n",
    "        \n",
    "def get_test_summaries():  \n",
    "    summaries = []\n",
    "    # Parse raw test data into list of test summaries\n",
    "    for filename in ['1-FLOP-128MB-1-THREADS.gables']:\n",
    "        summary = TestSummary()\n",
    "        with open(os.path.join(INPUT_DIRECTORY, filename), 'r') as file:\n",
    "            prev_values = None\n",
    "            is_metadata = False\n",
    "            for line in file.readlines():\n",
    "                if line.strip() == \"\":\n",
    "                    continue\n",
    "                if is_metadata:\n",
    "                    # Parse metadata\n",
    "                    values = line.strip().split()\n",
    "                    if values[0] == \"FLOPS\":\n",
    "                        summary.flops = float(values[1])\n",
    "                        continue\n",
    "                    else:\n",
    "                        summary.threads = float(values[1])\n",
    "                        break\n",
    "                if line.strip() == \"META_DATA\":\n",
    "                    # We have reached meta data\n",
    "                    is_metadata = True\n",
    "                    continue\n",
    "                # This is a normal line of data\n",
    "                values = [float(x) for x in line.strip().split()]\n",
    "                if not prev_values or prev_values[RAW_INDEX.num_trials] < values[RAW_INDEX.num_trials] or values == []:\n",
    "                    prev_values = values\n",
    "                    continue\n",
    "                else:\n",
    "                    # We want to consider this value\n",
    "                    summary.max_gflops = max(summary.max_gflops, prev_values[RAW_INDEX.flops]/prev_values[RAW_INDEX.time])\n",
    "                    summary.x.append(prev_values[RAW_INDEX.working_set_size])\n",
    "                    summary.gflops.append((prev_values[RAW_INDEX.flops]/prev_values[RAW_INDEX.time])/1000)\n",
    "                    summary.band.append((prev_values[RAW_INDEX.bytes]/prev_values[RAW_INDEX.time])/1000)\n",
    "                    prev_values = values\n",
    "        # Calculate max l1, l2 and dram bandwidth\n",
    "        calculate_bandwidths(summary)\n",
    "        # Calculate weight\n",
    "        calculate_weight(summary)\n",
    "        summaries.append(summary)\n",
    "    return summaries"
   ]
  },
  {
   "cell_type": "code",
   "execution_count": 112,
   "metadata": {},
   "outputs": [
    {
     "ename": "SyntaxError",
     "evalue": "unexpected EOF while parsing (<ipython-input-112-04921bdbc0ae>, line 18)",
     "output_type": "error",
     "traceback": [
      "\u001b[0;36m  File \u001b[0;32m\"<ipython-input-112-04921bdbc0ae>\"\u001b[0;36m, line \u001b[0;32m18\u001b[0m\n\u001b[0;31m    plt.plot(x, y\u001b[0m\n\u001b[0m                 ^\u001b[0m\n\u001b[0;31mSyntaxError\u001b[0m\u001b[0;31m:\u001b[0m unexpected EOF while parsing\n"
     ]
    }
   ],
   "source": [
    "def plot_roofline(summaries):\n",
    "    max_index = 0\n",
    "    max_weight = -math.inf\n",
    "    \n",
    "    max_gflops = -math.inf\n",
    "    \n",
    "    for i, summary in enumerate(summaries):\n",
    "        max_gflops = max(max_gflops, summary.max_gflops)\n",
    "        if summary.weight > max_weight:\n",
    "            max_index = i\n",
    "            max_weight = summary.weight\n",
    "    summary = summaries[max_index]\n",
    "    \n",
    "    x = logspace(0, 10, 1000)\n",
    "    y_1 = summary.max_l1 * x\n",
    "    plt.yscale(\"log\")\n",
    "    plt.xscale(\"log\")\n",
    "    plt.plot(x, y"
   ]
  },
  {
   "cell_type": "code",
   "execution_count": 177,
   "metadata": {},
   "outputs": [],
   "source": [
    "def plot_roofline(summaries):\n",
    "    max_index = 0\n",
    "    max_weight = -math.inf\n",
    "    \n",
    "    max_gflops = -math.inf\n",
    "    \n",
    "    for i, summary in enumerate(summaries):\n",
    "        max_gflops = max(max_gflops, summary.max_gflops)\n",
    "        if summary.weight > max_weight:\n",
    "            max_index = i\n",
    "            max_weight = summary.weight\n",
    "    summary = summaries[max_index]\n",
    "    \n",
    "    x = np.logspace(-1, 5, 1000)\n",
    "    plt.yscale(\"log\")\n",
    "    plt.xscale(\"log\")\n",
    "    \n",
    "    if summary.max_dram:\n",
    "        ys = np.minimum(summary.max_dram * x, np.repeat(summary.max_gflops, len(x)))\n",
    "        plt.plot(x, ys, label=\"DRAM {} GB/s\".format(summary.max_dram))\n",
    "        \n",
    "    if summary.max_l1:\n",
    "        ys = np.minimum(summary.max_l1 * x, np.repeat(summary.max_gflops, len(x)))\n",
    "        plt.plot(x, ys, label=\"L1 {} GB/s\".format(summary.max_l1))\n",
    "        \n",
    "    if summary.max_l2:\n",
    "        ys = np.minimum(summary.max_l2 * x, np.repeat(summary.max_gflops, len(x)))\n",
    "        plt.plot(x, ys, label=\"L2 {} GB/s\".format(summary.max_l2))\n",
    "        \n",
    "    plt.legend()\n",
    "    plt.xlabel(\"Flops/byte\")\n",
    "    plt.ylabel(\"MFlops/second\")\n",
    "    mpl.rcParams['figure.figsize'] = (10,5)\n",
    "    plt.show()\n",
    "    "
   ]
  },
  {
   "cell_type": "code",
   "execution_count": 178,
   "metadata": {},
   "outputs": [
    {
     "name": "stdout",
     "output_type": "stream",
     "text": [
      "[[29738.738323208698, 1000], [28.802540306419292, 23], [21.24425209795672, 22], [10.037504202579294, 23]]\n"
     ]
    }
   ],
   "source": [
    "summary = get_test_summaries()[0]"
   ]
  },
  {
   "cell_type": "code",
   "execution_count": 179,
   "metadata": {},
   "outputs": [
    {
     "name": "stdout",
     "output_type": "stream",
     "text": [
      "1858.6711452005436\n",
      "21.24425209795672\n",
      "28.802540306419292\n",
      "10.037504202579294\n",
      "87.4905426950432\n",
      "64.53150053525998\n",
      "185.1726393024004\n"
     ]
    }
   ],
   "source": [
    "print(summary.max_gflops)\n",
    "print(summary.max_l1)\n",
    "print(summary.max_l2)\n",
    "print(summary.max_dram)\n",
    "\n",
    "print(summary.max_gflops / summary.max_l1)\n",
    "print(summary.max_gflops / summary.max_l2)\n",
    "print(summary.max_gflops / summary.max_dram)"
   ]
  },
  {
   "cell_type": "code",
   "execution_count": 180,
   "metadata": {},
   "outputs": [
    {
     "name": "stdout",
     "output_type": "stream",
     "text": [
      "[[29738.738323208698, 1000], [28.802540306419292, 23], [21.24425209795672, 22], [10.037504202579294, 23]]\n"
     ]
    },
    {
     "data": {
      "image/png": "[encoded data removed]",
      "text/plain": [
       "<Figure size 720x360 with 1 Axes>"
      ]
     },
     "metadata": {},
     "output_type": "display_data"
    }
   ],
   "source": [
    "plot_roofline(get_test_summaries())"
   ]
  },
  {
   "cell_type": "code",
   "execution_count": 184,
   "metadata": {},
   "outputs": [
    {
     "data": {
      "image/png": "[encoded data removed]",
      "text/plain": [
       "<Figure size 720x360 with 1 Axes>"
      ]
     },
     "metadata": {},
     "output_type": "display_data"
    }
   ],
   "source": [
    "plot_bandwidth(summary)"
   ]
  },
  {
   "cell_type": "code",
   "execution_count": null,
   "metadata": {},
   "outputs": [],
   "source": []
  }
 ],
 "metadata": {
  "kernelspec": {
   "display_name": "Python 3",
   "language": "python",
   "name": "python3"
  },
  "language_info": {
   "codemirror_mode": {
    "name": "ipython",
    "version": 3
   },
   "file_extension": ".py",
   "mimetype": "text/x-python",
   "name": "python",
   "nbconvert_exporter": "python",
   "pygments_lexer": "ipython3",
   "version": "3.7.2"
  }
 },
 "nbformat": 4,
 "nbformat_minor": 2
}
